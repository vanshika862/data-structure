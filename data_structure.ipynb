{
  "nbformat": 4,
  "nbformat_minor": 0,
  "metadata": {
    "colab": {
      "provenance": []
    },
    "kernelspec": {
      "name": "python3",
      "display_name": "Python 3"
    },
    "language_info": {
      "name": "python"
    }
  },
  "cells": [
    {
      "cell_type": "markdown",
      "source": [
        "Q1 What are data structure and why are they important?\n",
        "\n",
        "ans: Data structur are specialised formats fo organising , storing, and managing data in a computer system. they are fundamental tools in computer programming , avting as specific ways to organise and store data to enable efficient retrieval and modification.\n",
        "\n",
        "importance-\n",
        "\n",
        "1 Data  structure define how data elements are related to each other and how they can be acessed.\n",
        " 2 Data structure are choosen based on the specific operations that neeed to be performed efficiently on the data.\n",
        "\n",
        " 3 many algorithms rely on specific data structure to function correctly and efficiently\n",
        "\n",
        " 4 Data structure are fundamental to building and managing databases , enabling efficient storage , retrieval and manipulkation of large amouts of data.\n",
        "\n",
        " 5 Many machine learning rely on data structur tp efficiently process and analyze data, makking them as a essential part of machine learning pipline."
      ],
      "metadata": {
        "id": "By1V9WJpl3dw"
      }
    },
    {
      "cell_type": "markdown",
      "source": [
        "Q2 Explain the differnce between mutablle and immutable data types with exmples\n",
        "\n",
        "Ans  mutables - objects whose value canbe change after they are created are kniwn as mutables and objects whose value can not be changed are known as immutable\n",
        "\n",
        "in immutable data types any operation that apperas to modify them actually creats a new object\n",
        "\n",
        "examples strings , tuples are immutables\n",
        "\n",
        "mutable data operation can change thheir content without creating a neew object  \n",
        "\n",
        "examples- list , dictionaries , sets."
      ],
      "metadata": {
        "id": "pRitdeH4osSH"
      }
    },
    {
      "cell_type": "markdown",
      "source": [
        "q3 What are main differneces between lists and tuples in python\n",
        "\n",
        "ans- mutablity(list are mutable , wheras tuples are immutable)\n",
        "\n",
        "2 Methods and operations ( list have inbuilt methods, tuples do not have inbuilt methods because of their immutability )\n",
        "\n",
        "3 Performance - Tuples are faster than list in iteration and accessing elements and consumes less memory thn list\n",
        "\n",
        "4 usage -list are preferred fpr homogeneous collectios that may change , tuples are ideal for hwtwerogeneous data that shoudn't  change\n",
        "\n",
        "5- syntax- list use square brackets  my_list = [1 , 2 , 3 ]\n",
        "tuples uses parenteses  my-tuple = (1 , 2 , 3)\n"
      ],
      "metadata": {
        "id": "NFlGHVR6qK3c"
      }
    },
    {
      "cell_type": "markdown",
      "source": [
        "Q 4 Describe how dictionaaries store data\n",
        "\n",
        "ans - Dictionaries are powerful buily in data structure thats tore data using a key value mapping system\n",
        "\n",
        " disctionaries are implementd by using hash tables.\n",
        "\n",
        " each key is passed through a hash function that converts it into a numberic hash value.\n",
        "\n",
        " Each element consists of a key and its associateed value .\n",
        "\n",
        " keys must be unique and hashable\n",
        "\n",
        " differents keys vcan sometime produce the same hash value and python resolves colliosions using open addressing woth probing.\n",
        "\n",
        " pyton dictionaries allocate more memory that neede to maintain performance\n",
        "\n",
        " dictionaries consists of an array of buckets  each bucket conatins refrence to key object pairs."
      ],
      "metadata": {
        "id": "pWvD6aqjsQga"
      }
    },
    {
      "cell_type": "markdown",
      "source": [
        "Q5 wht mmight you use a set inste of a list in python ?\n",
        "\n",
        "set is used insted of list in poython because-\n",
        "\n",
        "1- sets are automaticaly eliminates duplicates making them ideal whwn you need to store unique values only\n",
        "\n",
        "2 checking if an item exists in a sset is significantly faster than in a list\n",
        "\n",
        "3 sets supports operations like union , intersection , diffrences and assynetric differnces\n",
        "\n",
        "4 convering a list to set is the fastest way to remove duplicate elemnts\n",
        "\n",
        "5 when the order of elements dosen't matter , sets are more memory eficient."
      ],
      "metadata": {
        "id": "myBBek_IuKYI"
      }
    },
    {
      "cell_type": "markdown",
      "source": [
        "q6 what is string in python and how is it different from list\n",
        "\n",
        "ans string in python is an immutable sequence of unicode characters used to store and munipulate text data. andlist is mutabl eorderd collection of data that can  hold elements of different data types.\n",
        "\n",
        "strings can contaion only chracters , list contain any data types icluding mixed types.\n",
        "\n",
        "list supports asssignments , intersection , append  and extend , strings have specilaissed ,ethod for text manipulations\n",
        "\n",
        "strings raee created eith quoted \" hello \" , lists are creatd in brackets []\n",
        "\n",
        "srinngs are more memory wfficient for text and list hace overhead per elemt but offer more flexibilty."
      ],
      "metadata": {
        "id": "lzPrLwxgva-P"
      }
    },
    {
      "cell_type": "markdown",
      "source": [
        "Q7 How do tuples ensure data integrity in python\n",
        "\n",
        "ans - Tuples in python ensure dta integriety through several keys\n",
        "Because tuples are immutabl , they can be used as dictionaries ke , set elemts , and unlike list\n",
        "\n",
        "tuples safegaurd the datathat shouldn't be changed through programm execution .\n",
        "\n",
        "when functions return multiplevalues as atuple , the relationship between these valuses is preserved and cannot be alterd\n",
        "\n",
        " Tuples have a smaller memory footprint than list , making them more efficient for storing fixed collections\n",
        "\n",
        " the collections.namedtuple feature enhanes readibilty while maintaing immutable benfits."
      ],
      "metadata": {
        "id": "M6Gj3I8QwyfX"
      }
    },
    {
      "cell_type": "markdown",
      "source": [
        "Q 8 What is hash tables , and how does it related to dictionaries in python\n",
        "\n",
        "ans - a hash table is adata structure that implents an associative array or mapping , which allows you to store key\n",
        " value pairs for efficients lookups . it uses a hash function to compute an index into an array of buckets or slots , from which the desired value can be found .\n",
        "\n",
        " relationship between hash tables and python dictionaries\n",
        "\n",
        " 1 python dictionaries are built using hash tables behindthe scenes .\n",
        "\n",
        " 2 when you add an item to a dictionary , python hashes the key to determine where to store the value in memory\n",
        "\n",
        " 3 pyhtons dictionary implementation handles hash collisions  (when different keys are produce the same hash vales)\n",
        "\n",
        " 4 Dictionaries keys must be hashable\n",
        "\n",
        " 5 The hash table implementation is what gives dictionaries their 0(1) time complexity for lookups."
      ],
      "metadata": {
        "id": "zCThJX8Yymdl"
      }
    },
    {
      "cell_type": "markdown",
      "source": [
        "Q9 can lists contains diferent data types in python ?\n",
        "\n",
        "ans - yes, list in python can contain different data types . Pythons lists are heterogeneous data structure, which menas they can store elements of multiple data types within the same list . you can mix integers , strings , float , booleans and evem other list or complex objects like dictionaries , anad custom classes ina sinle list ."
      ],
      "metadata": {
        "id": "t2tcoZLg1vi7"
      }
    },
    {
      "cell_type": "markdown",
      "source": [
        "q10 explain why strings arae immuatble for several important dsign and implenttaion reasons\n",
        "\n",
        "ans - python to optimise memory usage by storing only one copy of identical strings\n",
        "\n",
        "strings are commanly used in dictinary keys , which require immutable objects . their hash valus remain constant throughoutprogram execution, ensuring reliable lookups .\n",
        "\n",
        "immutable strings are inherently thread safe since they cannot be modified  after creation . this eliminates the need for locks or synchornization whwn sharing sting data between threads.\n",
        "\n",
        "Immutablity prevents accidental or  malicious modification of string data, which is important for sensitive information like passwords , databse queries  or file paths\n",
        "\n",
        "sice strings can't change , python can compute aba cache their values once , improvving performance for dictionary and set operations ."
      ],
      "metadata": {
        "id": "tVx0i2CJ2wMj"
      }
    },
    {
      "cell_type": "markdown",
      "source": [
        "Q11what adavantages do dictionaris offer over list for certain tasks\n",
        "\n",
        "ans dictionaries offer several significant advantages over list for certain tasks\n",
        " 1 dictionares allows access to values using meaning keys rather than numeri indies , making code more readable andintutive .\n",
        "\n",
        " 2 Dictionaries use hasg tables implementation providing constant time lookups regadles of size ehile list require 0 (n)  time for searching\n",
        "\n",
        " 3 cheking if a key exists in a dictionary is much faster than searching a list\n",
        "\n",
        " 4 dictionaries enforced unique keys preventing accidntal duplication of identifiers\n",
        "\n",
        " 5 white list only use integers oas indices , dictionaies can use immutable types string , numbers, tupels as keys ."
      ],
      "metadata": {
        "id": "LqxamXUQ4m1I"
      }
    },
    {
      "cell_type": "markdown",
      "source": [
        "Q12 describe a scenario where using a tuple would b epreferable over a list\n",
        "\n",
        "ans - tuples are preferable over a list in several scenarios\n",
        "\n",
        "1 represting fixed data that should not change , such as geographic coordinates .\n",
        "\n",
        "2since dictionary keys must be immutables , tuples can be used as a composite keys while lists cannot\n",
        "\n",
        "3 when ypu want to nsure dta cannot be accidently modifed\n",
        "\n",
        "4 tuples are slightly fatser than list foriterration and have a samller memory footprint\n",
        "\n",
        "5using tuples clearlly communicates to other developers that thistata should not be modified"
      ],
      "metadata": {
        "id": "-eM3Ej7o6CzP"
      }
    },
    {
      "cell_type": "markdown",
      "source": [
        "Q 13 How do sets handle duplicate values in python?\n",
        "\n",
        "ans - Sets inpython automatically eliminate duplicate valus , when you create set or add elemts to an exixting set , any duplicate are slightly discared , keepig only ine instance if eah unique vlaue . thhis pripoert makes sets ideal for removing duplicates from collections and for membership testing"
      ],
      "metadata": {
        "id": "AYFljb5T7WLO"
      }
    },
    {
      "cell_type": "markdown",
      "source": [
        "Q14 how does the \"in\" keyword works differently for lists and dictionsries ?\n",
        "\n",
        "ans for list - the in operater checks if a value exists as an element in the list\n",
        "\n",
        "it seraches sequentially thropugh each elements\n",
        "\n",
        "time complexity is O(n) perfporamce decreases with larger lists\n",
        "\n",
        "it compares the vlaue to each elements in the list using equality comparison\n",
        "\n",
        "for dictionaries - the in opertor checks if a value exists as akey in the dictionary\n",
        "\n",
        "it only seraches  among the ddictionary keys , not among the values\n",
        "\n",
        "time complexity is O(1) constant time regardless of dictionary size."
      ],
      "metadata": {
        "id": "4Y9STanJ_gtm"
      }
    },
    {
      "cell_type": "markdown",
      "source": [
        "Q15 Can you modify  the elements of a tuple ? explain why or why not ?\n",
        "\n",
        "anas - no, you cannot modify the elements of atuple in python . this is because tuples are immutable data structure , meaning once they are created , their contents cannot be changed\n",
        "1. tuples can be used as a dictinary keys\n",
        "\n",
        "2. tuples can be elements of sts\n",
        "\n",
        "3.tupes are typically more memory efficient than list\n",
        "\n",
        "4. Immutable objects are generally safer inmultihreaded applications\n",
        "\n",
        "5. the immutability guarantees that data won't be accidently modifiesd"
      ],
      "metadata": {
        "id": "Aap5Cv91BAoE"
      }
    },
    {
      "cell_type": "markdown",
      "source": [
        "Q16 what is a nested dictionary , and give example of its use case ?\n",
        "\n",
        "ans - A nested dictionary is a  dictionary where one or more values are dictionaries themselves . thos creates a hierarchial data structure where data can be organised in multiple levels\n",
        "\n",
        "exampples storing informaion about students across different schools and classes this tructure is particularly useful when\n",
        "\n",
        "organising heirachial data\n",
        "\n",
        "representing complex relationships between entities\n",
        "\n",
        "creating configuration systems with multiple levels ofsetting\n",
        "\n",
        "storing and accessing multi dimensional data that has meaningful lables."
      ],
      "metadata": {
        "id": "Bc-RphqnC68r"
      }
    },
    {
      "cell_type": "markdown",
      "source": [
        "Q17 Describe the complexity of ccessing lmnt in a dictionary\n",
        "\n",
        "ans - the time omplexity of accessing elemts in apython dictionary isbO(10 on average (constant timen) . this means that regardless if the ditionary's size, retriving a vale usingits keys takes approximately the same amount of time\n",
        "\n",
        "this efficient performance is possible because dictionaries in python are implemented using hash tables. when you access a dictionary elemts\n",
        "\n",
        "1 Computes the hash value of the key\n",
        "\n",
        "2 uses this hash to determine the location of the key value pair in memory\n",
        "\n",
        "3 retrieves the value directly from that location"
      ],
      "metadata": {
        "id": "YD5HFhICEUAK"
      }
    },
    {
      "cell_type": "markdown",
      "source": [
        "Q18In what situations are lists preferred over dictionaries ?\n",
        "\n",
        "ans - List are preferred over dictionaries in the following situations\n",
        "\n",
        "1 when order mattrs- lists maintain inseryin order, making them ideal when sequence is important\n",
        "\n",
        "2 when you need to store duplicate elements list allow duplicates , while dictionary keys must br unique.\n",
        "\n",
        "3 when accessing elements sequentially - list are optimised for iternation and sequential acess with 0 (1) time complexity or indxed access.\n",
        "\n",
        "4 whwn memory eficiency is critical - list typically consume less memory than dictionaries for the same number of elements since dictionaries store both keys and values plus hash table overhead.\n",
        "\n",
        "5 when ypu dont have natural key value  rlationships - if data dosent naturally map to key vakue oairs, lists are more appropriate."
      ],
      "metadata": {
        "id": "P_oszvUVFiux"
      }
    },
    {
      "cell_type": "markdown",
      "source": [
        "Q19why dictionaries considerd unorderd and how does that affect data retrieval ?\n",
        "\n",
        "ans - Dictionaries in python were historically considerrd unorderd because their internal implementation using hash tables  didnt guarantee that items would maintain their insertion order. the hash function maps keys to locations in memory based on the keys hash value , not based on when they were intersted.\n",
        "regading data retrival -\n",
        "\n",
        "1 despitr being traditionally \"unorderd \" dictories offer 0(1) time complexity for retriveing items by key , regardless of order.\n",
        "\n",
        "2 no numerical indexing - Unlike lists, ypu cant access dictionary elemts by position , ypu must use the exact key .\n",
        "\n",
        "3 Iternation considerations - whwn iterating through a traditional undergoing , he order wasnt predictable or reliable."
      ],
      "metadata": {
        "id": "VaPX9Ri0YXol"
      }
    },
    {
      "cell_type": "markdown",
      "source": [
        "Q20 explain the differnce between a list and a dictionary in terms of data retrival ?\n",
        "\n",
        "ans- List-\n",
        "\n",
        "* Use intger indices\n",
        "*Access by index is 0(1) time complexity\n",
        "*Searching for a value without knowing its index knowing iterating through the list ,which is0(n)time complexity\n",
        "*Maintain insertion order and allow duplicate values\n",
        "*Best when seuential access is needed or when position matters.\n",
        "\n",
        "Dictionaries-\n",
        "\n",
        "*Uses keys for data retrival\n",
        "*Looku by key is 0(1) average time complexity due to hash table implementation\n",
        "*No direct numerical indexing must use the exact key\n",
        "*best when you neet to associate values with specific keys for fast reterival."
      ],
      "metadata": {
        "id": "yps6E9wfZ3Zi"
      }
    },
    {
      "cell_type": "markdown",
      "source": [
        "SEction 2Practical"
      ],
      "metadata": {
        "id": "bfR0dMI1bH7J"
      }
    },
    {
      "cell_type": "markdown",
      "source": [
        "Q1 Write acode to create a string with your name  and print it"
      ],
      "metadata": {
        "id": "Ebls11k4bMuh"
      }
    },
    {
      "cell_type": "code",
      "source": [
        "#creating a string with your name\n",
        "name = \"vanshika\"\n",
        "print (name)"
      ],
      "metadata": {
        "colab": {
          "base_uri": "https://localhost:8080/"
        },
        "id": "zZNNFSmQbUuw",
        "outputId": "495c5b25-0718-4ad2-aff0-00ff8ae8bfa4"
      },
      "execution_count": null,
      "outputs": [
        {
          "output_type": "stream",
          "name": "stdout",
          "text": [
            "vanshika\n"
          ]
        }
      ]
    },
    {
      "cell_type": "markdown",
      "source": [
        "Q2 Write a code to find the length of the string \"hello world \""
      ],
      "metadata": {
        "id": "tOEc9Mpbbkz4"
      }
    },
    {
      "cell_type": "code",
      "source": [
        "#finding the length of string \"hello world\"\n",
        "string = \" hello world\"\n",
        "length = len(string)\n",
        "#printing the length\n",
        "print (\"the length of the string'hello world' is:\" , length)"
      ],
      "metadata": {
        "colab": {
          "base_uri": "https://localhost:8080/"
        },
        "id": "mNwHD1Ikbsc4",
        "outputId": "d6858356-e62e-4f79-81eb-8cd3ba7d6695"
      },
      "execution_count": null,
      "outputs": [
        {
          "output_type": "stream",
          "name": "stdout",
          "text": [
            "the length of the string'hello world' is: 12\n"
          ]
        }
      ]
    },
    {
      "cell_type": "markdown",
      "source": [
        "Q3 Write a coode to slice the  first 3 characters from the string \"python programming \""
      ],
      "metadata": {
        "id": "qkYB6N-icWKP"
      }
    },
    {
      "cell_type": "code",
      "source": [
        "#slicing the first 3 characters from the string  \" python programming \"\n",
        "string = \"python programming\"\n",
        "sliced_string = string [:3]\n",
        "#printing the sliced string\n",
        "print(\"the first 3 characterrs are:\",sliced_string)"
      ],
      "metadata": {
        "colab": {
          "base_uri": "https://localhost:8080/"
        },
        "id": "A1544yZOclhR",
        "outputId": "583e1651-3ac6-4431-8d16-2c4a47887538"
      },
      "execution_count": null,
      "outputs": [
        {
          "output_type": "stream",
          "name": "stdout",
          "text": [
            "the first 3 characterrs are: pyt\n"
          ]
        }
      ]
    },
    {
      "cell_type": "markdown",
      "source": [
        "Q4 Write a code to convert the string  \"hello\" to uppercase"
      ],
      "metadata": {
        "id": "waR7PeK6dKjX"
      }
    },
    {
      "cell_type": "code",
      "source": [
        "#converrting the string \"hello\" to uppercase\n",
        "string = \"hello\"\n",
        "uppercase_string = string.upper()\n",
        "#printing the uppercase string\n",
        "print(\"the uppercase version of 'hello' is:\", uppercase_string)\n"
      ],
      "metadata": {
        "colab": {
          "base_uri": "https://localhost:8080/"
        },
        "id": "k_TzZykxdVmG",
        "outputId": "67bcae5c-da0a-44b6-c44a-a15b6e46ca99"
      },
      "execution_count": null,
      "outputs": [
        {
          "output_type": "stream",
          "name": "stdout",
          "text": [
            "the uppercase version of 'hello' is: HELLO\n"
          ]
        }
      ]
    },
    {
      "cell_type": "markdown",
      "source": [
        "Q5 write acode to rplace the word \"apple\" with \"orange\" in th string \"i like apple\""
      ],
      "metadata": {
        "id": "E7_CYH1peFrO"
      }
    },
    {
      "cell_type": "code",
      "source": [
        "#replacing the word \"apple\" with \"orange\" in the string \"i like apple\"\n",
        "string = \"i like apple\"\n",
        "replaced_string = string.replace(\"apple\",\"orange\")\n",
        "#printing the replaced string\n",
        "print(\"the replaced string is:\", replaced_string)"
      ],
      "metadata": {
        "colab": {
          "base_uri": "https://localhost:8080/"
        },
        "id": "Myjs916Peaad",
        "outputId": "b24d4687-c25a-48d4-a05e-277c838a46e5"
      },
      "execution_count": null,
      "outputs": [
        {
          "output_type": "stream",
          "name": "stdout",
          "text": [
            "the replaced string is: i like orange\n"
          ]
        }
      ]
    },
    {
      "cell_type": "markdown",
      "source": [
        "Q6 write a code to crate a list with number 1 to 5 and print it"
      ],
      "metadata": {
        "id": "dqoBBm7Ter2l"
      }
    },
    {
      "cell_type": "code",
      "source": [
        "#creating a list with number1 to 5\n",
        "numbers = [1,2,3,4,5]\n",
        "#printing the list\n",
        "print(\"the list is:\", numbers)"
      ],
      "metadata": {
        "colab": {
          "base_uri": "https://localhost:8080/"
        },
        "id": "ycLglHfhe1s9",
        "outputId": "dd8da22c-dd88-4042-cb3b-97ec0bfa4f17"
      },
      "execution_count": null,
      "outputs": [
        {
          "output_type": "stream",
          "name": "stdout",
          "text": [
            "the list is: [1, 2, 3, 4, 5]\n"
          ]
        }
      ]
    },
    {
      "cell_type": "markdown",
      "source": [
        "Q7 Write a code to append the number 10 to the list [1,2,3,4]"
      ],
      "metadata": {
        "id": "bf4fuCAee_Yd"
      }
    },
    {
      "cell_type": "code",
      "source": [
        "#creating the inital list\n",
        "list = [1,2,3,4]\n",
        "# #appending the number 10 to the list\n",
        "list.append(10)\n",
        "#printing the updated list\n",
        "print(\"the updated list is:\", list)"
      ],
      "metadata": {
        "colab": {
          "base_uri": "https://localhost:8080/"
        },
        "id": "iWQcatBjfJQ8",
        "outputId": "8cae2e75-ec27-4692-cc2d-ecdaf8c458d1"
      },
      "execution_count": null,
      "outputs": [
        {
          "output_type": "stream",
          "name": "stdout",
          "text": [
            "the updated list is: [1, 2, 3, 4, 10]\n"
          ]
        }
      ]
    },
    {
      "cell_type": "markdown",
      "source": [
        "Q8 write acode to remove the number 3 from the list [1, 2, 3, 4,5]"
      ],
      "metadata": {
        "id": "58cNoHBhfV-U"
      }
    },
    {
      "cell_type": "code",
      "source": [
        "#creating the inital list\n",
        "numbers = [1,2,3,4,5]\n",
        "#removing the number 3 from the list\n",
        "numbers.remove(3)\n",
        "#printing the updated list\n",
        "print(\"the updated list is:\", numbers)"
      ],
      "metadata": {
        "colab": {
          "base_uri": "https://localhost:8080/"
        },
        "id": "vNL_XaV0ffU8",
        "outputId": "5b64872f-34fc-4964-dc59-f3774996f154"
      },
      "execution_count": null,
      "outputs": [
        {
          "output_type": "stream",
          "name": "stdout",
          "text": [
            "the updated list is: [1, 2, 4, 5]\n"
          ]
        }
      ]
    },
    {
      "cell_type": "markdown",
      "source": [
        "Q9 write a code to access the second element in the kist ['a;, 'b', 'c' ,'d']"
      ],
      "metadata": {
        "id": "LTKtTwUQfnKe"
      }
    },
    {
      "cell_type": "code",
      "source": [
        "#creating the list\n",
        "letters = ['a','b','c','d']\n",
        "#accessing the second element\n",
        "second_element = letters[1]\n",
        "#printing the second element\n",
        "print(\"the second element in the list is:\", second_element)"
      ],
      "metadata": {
        "colab": {
          "base_uri": "https://localhost:8080/"
        },
        "id": "gM0aX3E3fzr0",
        "outputId": "8a136508-87fb-4119-a3ef-f10cf00046ee"
      },
      "execution_count": null,
      "outputs": [
        {
          "output_type": "stream",
          "name": "stdout",
          "text": [
            "the second element in the list is: b\n"
          ]
        }
      ]
    },
    {
      "cell_type": "markdown",
      "source": [
        "Q10write a code to reverse the list [10,20,30,40,50]"
      ],
      "metadata": {
        "id": "YWGwIWYqf6TU"
      }
    },
    {
      "cell_type": "code",
      "source": [
        "#creating the list\n",
        "numbers = [10,20,30,40,50]\n",
        "#reversing the list\n",
        "reversed_numbers = numbers[::-1]\n",
        "#printing the reversed list\n",
        "print(\"the reversed list is:\", reversed_numbers)"
      ],
      "metadata": {
        "colab": {
          "base_uri": "https://localhost:8080/"
        },
        "id": "27AmlVdogM6j",
        "outputId": "4708f312-0a13-4936-c201-a9bc3b2fe17c"
      },
      "execution_count": null,
      "outputs": [
        {
          "output_type": "stream",
          "name": "stdout",
          "text": [
            "the reversed list is: [50, 40, 30, 20, 10]\n"
          ]
        }
      ]
    },
    {
      "cell_type": "markdown",
      "source": [
        "Q11 write a code to create a tuple with the elements 100, 200, 300 and print it"
      ],
      "metadata": {
        "id": "Eu3yYbzkgX0T"
      }
    },
    {
      "cell_type": "code",
      "source": [
        "#creating a tuple\n",
        "numbers_tuple = (100,200,300)\n",
        "# #printing the tuple\n",
        "print(\"the tuple is:\", numbers_tuple)\n"
      ],
      "metadata": {
        "colab": {
          "base_uri": "https://localhost:8080/"
        },
        "id": "r3D28t9CghML",
        "outputId": "c8500026-f7df-4c74-d020-48e2003c83ac"
      },
      "execution_count": null,
      "outputs": [
        {
          "output_type": "stream",
          "name": "stdout",
          "text": [
            "the tuple is: (100, 200, 300)\n"
          ]
        }
      ]
    },
    {
      "cell_type": "markdown",
      "source": [
        "Q12 Write a code to access the second to last element of the the tuple ('red' ,'green', 'blue', ,'yellow')"
      ],
      "metadata": {
        "id": "Roq4VSCCg3Jj"
      }
    },
    {
      "cell_type": "code",
      "source": [
        "#defining the tuple\n",
        "colors = ('red','green','blue','yellow')\n",
        "#accessing the second to last element\n",
        "second_to_last_element = colors[-2]\n",
        "#printing the second to last element\n",
        "print(\"the second to last element is:\", second_to_last_element)"
      ],
      "metadata": {
        "colab": {
          "base_uri": "https://localhost:8080/"
        },
        "id": "jZs8udNVhMSK",
        "outputId": "0441c9a4-6ccd-448f-f6d4-ba8906a9b309"
      },
      "execution_count": null,
      "outputs": [
        {
          "output_type": "stream",
          "name": "stdout",
          "text": [
            "the second to last element is: blue\n"
          ]
        }
      ]
    },
    {
      "cell_type": "markdown",
      "source": [
        "Q13 Write a code to find thr minimum number in the tuple (10,20,5,15)"
      ],
      "metadata": {
        "id": "gPMF651ihS1y"
      }
    },
    {
      "cell_type": "code",
      "source": [
        "#defining the tuple\n",
        "numbers = (10,20,5,15)\n",
        "#finding the minimum number\n",
        "minimum_number = min(numbers)\n",
        "#printing the minimum number\n",
        "print(\"the minimum number is:\", minimum_number)"
      ],
      "metadata": {
        "colab": {
          "base_uri": "https://localhost:8080/"
        },
        "id": "0IpfipOnhf0y",
        "outputId": "279da2c4-d4f2-44f1-f1ea-c548dc6dca33"
      },
      "execution_count": null,
      "outputs": [
        {
          "output_type": "stream",
          "name": "stdout",
          "text": [
            "the minimum number is: 5\n"
          ]
        }
      ]
    },
    {
      "cell_type": "markdown",
      "source": [
        "Q14 write acode to find the index of the element \"cat\" in th etuple ('dog' ,'cat',''rabbit')"
      ],
      "metadata": {
        "id": "ZopXVnx4hpCy"
      }
    },
    {
      "cell_type": "code",
      "source": [
        "#defining the tuple\n",
        "animals = ('dog','cat','rabbit')\n",
        "#finding the index of the element \"cat\"\n",
        "#defining the tuple\n",
        "animals = ('dog','cat','rabbit')\n",
        "#finding the index of the element \"cat\"\n",
        "index = animals.index('cat')\n",
        "#printing the index\n",
        "print(\"the index of the element 'cat' is:\", index)"
      ],
      "metadata": {
        "colab": {
          "base_uri": "https://localhost:8080/"
        },
        "id": "KPSkVFjwh3VS",
        "outputId": "cd45f61e-e0e7-49bc-8e60-3ac453abb286"
      },
      "execution_count": null,
      "outputs": [
        {
          "output_type": "stream",
          "name": "stdout",
          "text": [
            "the index of the element 'cat' is: 1\n"
          ]
        }
      ]
    },
    {
      "cell_type": "markdown",
      "source": [
        "Q15write acode to create a tuple containing thre diferent fruits and check if \"kiwi\" is in it"
      ],
      "metadata": {
        "id": "dZTYUMb6iMVy"
      }
    },
    {
      "cell_type": "code",
      "source": [
        "#creating a tuple with thre different fruits\n",
        "fruits = ('apple','banana','orange')\n",
        "# #checking if \"kiwi\" is in the tuple\n",
        "is_kiwi_in_tuple = 'kiwi' in fruits\n",
        "#printing the result\n",
        "print(\"is 'kiwi' in the tuple?\", is_kiwi_in_tuple)"
      ],
      "metadata": {
        "colab": {
          "base_uri": "https://localhost:8080/"
        },
        "id": "xVuG2oZWiY_S",
        "outputId": "542b3f38-9a9c-43f6-8342-201ad3e9f874"
      },
      "execution_count": null,
      "outputs": [
        {
          "output_type": "stream",
          "name": "stdout",
          "text": [
            "is 'kiwi' in the tuple? False\n"
          ]
        }
      ]
    },
    {
      "cell_type": "markdown",
      "source": [
        "Q16 write a code to create a set with the elements 'a', 'b' ,'c' and print it"
      ],
      "metadata": {
        "id": "9XRKaaejiieR"
      }
    },
    {
      "cell_type": "code",
      "source": [
        "#creating a set with the elemts'a', 'b' ,'c'\n",
        "my_set = {'a','b','c'}\n",
        "# #printing the set\n",
        "print(\"the set is:\", my_set)"
      ],
      "metadata": {
        "colab": {
          "base_uri": "https://localhost:8080/"
        },
        "id": "UW_qhWM1irZ5",
        "outputId": "26bbad89-0f1c-432e-d2bd-577d977c1886"
      },
      "execution_count": null,
      "outputs": [
        {
          "output_type": "stream",
          "name": "stdout",
          "text": [
            "the set is: {'a', 'c', 'b'}\n"
          ]
        }
      ]
    },
    {
      "cell_type": "markdown",
      "source": [
        "Q17write a code to clear all elements from the st { 1,2,3,4,5}"
      ],
      "metadata": {
        "id": "NonRBRJli2go"
      }
    },
    {
      "cell_type": "code",
      "source": [
        "#creating a set with elements {1,2,3,4,5}\n",
        "my_set = {1,2,3,4,5}\n",
        "# #clearing all elements from the set\n",
        "my_set.clear()\n",
        "#printing the cleared set\n",
        "print(\"the cleared set is:\", my_set)"
      ],
      "metadata": {
        "colab": {
          "base_uri": "https://localhost:8080/"
        },
        "id": "Y7nGTgqvjCnZ",
        "outputId": "25db1e9b-e8db-4a37-a316-6876c61514b0"
      },
      "execution_count": null,
      "outputs": [
        {
          "output_type": "stream",
          "name": "stdout",
          "text": [
            "the cleared set is: set()\n"
          ]
        }
      ]
    },
    {
      "cell_type": "markdown",
      "source": [
        "Q18 write a code to remove the element 4 from the set {1,2,3,4}"
      ],
      "metadata": {
        "id": "Rh8pyJWWjQbA"
      }
    },
    {
      "cell_type": "code",
      "source": [
        "#creating a set with elements {1,2,3,4}\n",
        "my_set = {1,2,3,4}\n",
        "# #removing the element 4 from the set\n",
        "my_set.remove(4)\n",
        "#printing the updated set\n",
        "print(\"the updated set is:\", my_set)"
      ],
      "metadata": {
        "colab": {
          "base_uri": "https://localhost:8080/"
        },
        "id": "CSBXMTh5jYhQ",
        "outputId": "6f5ec496-518e-494e-c1a5-a2f4d1ad2485"
      },
      "execution_count": null,
      "outputs": [
        {
          "output_type": "stream",
          "name": "stdout",
          "text": [
            "the updated set is: {1, 2, 3}\n"
          ]
        }
      ]
    },
    {
      "cell_type": "markdown",
      "source": [
        "Q19 write a code to find the union of two sets {1,2,3} and{3,4,5}"
      ],
      "metadata": {
        "id": "rK6DiigfjkVQ"
      }
    },
    {
      "cell_type": "code",
      "source": [
        "# creating two sets\n",
        "set1 = {1,2,3}\n",
        "set2 = {3,4,5}\n",
        "#finding the union of the sets\n",
        "union_set = set1.union(set2)\n",
        "#printing the union set\n",
        "print(\"the union set is:\", union_set)"
      ],
      "metadata": {
        "colab": {
          "base_uri": "https://localhost:8080/"
        },
        "id": "9sIT0xhJjtip",
        "outputId": "ea3caa13-f4ff-4c00-a0ec-4b39e08d99e6"
      },
      "execution_count": null,
      "outputs": [
        {
          "output_type": "stream",
          "name": "stdout",
          "text": [
            "the union set is: {1, 2, 3, 4, 5}\n"
          ]
        }
      ]
    },
    {
      "cell_type": "markdown",
      "source": [
        "Q20 write a code to find the intersection of two sets {1,2,3} and {2,3,4}"
      ],
      "metadata": {
        "id": "H4Z2fzj6j1aQ"
      }
    },
    {
      "cell_type": "code",
      "source": [
        "#creating two sets\n",
        "set1 = {1,2,3}\n",
        "set2 = {2,3,4}\n",
        "#finding the intersection of the sets\n",
        "intersection_set = set1.intersection(set2)\n",
        "#printing the intersection set\n",
        "print(\"the intersection set is:\", intersection_set)"
      ],
      "metadata": {
        "colab": {
          "base_uri": "https://localhost:8080/"
        },
        "id": "LAaaBALTkCzH",
        "outputId": "f9e49bd7-f906-4111-d305-5593b003b625"
      },
      "execution_count": null,
      "outputs": [
        {
          "output_type": "stream",
          "name": "stdout",
          "text": [
            "the intersection set is: {2, 3}\n"
          ]
        }
      ]
    },
    {
      "cell_type": "markdown",
      "source": [
        "Q21 write a code to create a dictionary with the keys \"name\" , \"age\", and \"city\", and print it"
      ],
      "metadata": {
        "id": "og3wLNPAkK_g"
      }
    },
    {
      "cell_type": "code",
      "source": [
        "#creating a dictionary with keys \"name\" , \"age\" ,and \"city\"\n",
        "person_info = {\n",
        "    \"name\" : \"vanshika\",\n",
        "    \"age\" : 20,\n",
        "    \"city\" : \"delhi\"\n",
        "}\n",
        "#printing the dictionary\n",
        "print(\"the dictionary is:\", person_info)\n",
        "#     \"city\" : \"delhi\"\n",
        "#creating a dictionary with keys \"name\" , \"age\" ,and \"city\"\n",
        "person_info = {\n",
        "    \"name\" : \"vanshika\",\n",
        "    \"age\" : 20,\n",
        "    \"city\" : \"delhi\"\n",
        "}\n",
        "#printing the dictionary\n",
        "print(\"the dictionary is:\", person_info)"
      ],
      "metadata": {
        "colab": {
          "base_uri": "https://localhost:8080/"
        },
        "id": "BjRJjD06kXKI",
        "outputId": "bd086cdf-9e50-4f80-c10e-f70718dbde91"
      },
      "execution_count": null,
      "outputs": [
        {
          "output_type": "stream",
          "name": "stdout",
          "text": [
            "the dictionary is: {'name': 'vanshika', 'age': 20, 'city': 'delhi'}\n",
            "the dictionary is: {'name': 'vanshika', 'age': 20, 'city': 'delhi'}\n"
          ]
        }
      ]
    },
    {
      "cell_type": "markdown",
      "source": [
        "Q22 write acode to add a new key value pair \"county\": \"USA\" to the dictionary {'name:'john','age':25}"
      ],
      "metadata": {
        "id": "gG0oSHdLkp7o"
      }
    },
    {
      "cell_type": "code",
      "source": [
        "#orginal diactioanry\n",
        "person_info = {\n",
        "    \"name\" : \"john\",\n",
        "    \"age\" : 25\n",
        "}\n",
        "#adding a new key value pair \"county\": \"USA\" to the dictionary\n",
        "person_info[\"county\"] = \"USA\""
      ],
      "metadata": {
        "id": "bOiJiEMYlBW_"
      },
      "execution_count": null,
      "outputs": []
    },
    {
      "cell_type": "markdown",
      "source": [
        "Q23 Write acode to acess the value associated with the key \"name\" in the dictionary {'name':'alice','age':30}"
      ],
      "metadata": {
        "id": "EFfFtuuylOOX"
      }
    },
    {
      "cell_type": "code",
      "source": [
        "#defining the dictionary\n",
        "person_info = {'name':'alice','age':30}\n",
        "#accessing the value associated with the key \"name\"\n",
        "name_value = person_info['name']\n",
        "#printing the value\n",
        "print(\"the value associated with the key 'name' is:\", name_value)"
      ],
      "metadata": {
        "colab": {
          "base_uri": "https://localhost:8080/"
        },
        "id": "QURKwTmhlkZP",
        "outputId": "a1799a29-7d5f-48bc-c707-8d125179ce89"
      },
      "execution_count": null,
      "outputs": [
        {
          "output_type": "stream",
          "name": "stdout",
          "text": [
            "the value associated with the key 'name' is: alice\n"
          ]
        }
      ]
    },
    {
      "cell_type": "markdown",
      "source": [
        "Q24 write a code to remove the key \"age\" from the dictinary{'name':'bob', 'age':22,'city':'new york'}"
      ],
      "metadata": {
        "id": "MQDNR2Dflx-e"
      }
    },
    {
      "cell_type": "code",
      "source": [
        "#defining the dictionary\n",
        "person_info = {'name':'bob', 'age':22,'city':'new york'}\n",
        "#removing the key \"age\" from the dictionary\n",
        "del person_info['age']\n",
        "#printing the updated dictionary\n",
        "print(\"the updated dictionary is:\", person_info)"
      ],
      "metadata": {
        "colab": {
          "base_uri": "https://localhost:8080/"
        },
        "id": "X6Bls_RKmMOm",
        "outputId": "94d91033-47cd-4e3f-fb34-213eef89b903"
      },
      "execution_count": null,
      "outputs": [
        {
          "output_type": "stream",
          "name": "stdout",
          "text": [
            "the updated dictionary is: {'name': 'bob', 'city': 'new york'}\n"
          ]
        }
      ]
    },
    {
      "cell_type": "markdown",
      "source": [
        "Q25 write acode to check if the key  \"city\" exits in the dictionary {'name': 'alice','city':'paris'}"
      ],
      "metadata": {
        "id": "LLovdzommTUW"
      }
    },
    {
      "cell_type": "code",
      "source": [
        "#defining the dictionary\n",
        "person_info = {'name': 'alice','city':'paris'}\n",
        "#checking if the key \"city\" exits in the dictionary\n",
        "if 'city' in person_info:\n",
        "    print(\"the key 'city' exits in the dictionary\")\n",
        "else:\n",
        "  print(\"the key 'city' does not exits in the dictionary\")"
      ],
      "metadata": {
        "colab": {
          "base_uri": "https://localhost:8080/"
        },
        "id": "nJR8VUnumkgO",
        "outputId": "f8cf2f3f-944b-40f6-8a70-6469e4638e2f"
      },
      "execution_count": null,
      "outputs": [
        {
          "output_type": "stream",
          "name": "stdout",
          "text": [
            "the key 'city' exits in the dictionary\n"
          ]
        }
      ]
    },
    {
      "cell_type": "markdown",
      "source": [
        "Q26 write a code to create a list , atuple and a dictionary, and print them all"
      ],
      "metadata": {
        "id": "7PIheiwnmy52"
      }
    },
    {
      "cell_type": "code",
      "source": [
        "#creating a list\n",
        "my_list = [1,2,3,4,5]\n",
        "#creating a tuple\n",
        "my_tuple = (10,20,30,40,50)\n",
        "#creating a dictionary\n",
        "my_dictionary = {\n",
        "    \"name\" : \"vanshika\",\n",
        "    \"age\" : 20,\n",
        "    \"city\" : \"delhi\"\n",
        "}\n",
        "#printing all three"
      ],
      "metadata": {
        "id": "FSQUBuA3nB9O"
      },
      "execution_count": null,
      "outputs": []
    },
    {
      "cell_type": "markdown",
      "source": [
        "Q27 write acode to create a list of 5 random numbers between 1 and 100 , sort it in ascending order, and print the result.(replaced)"
      ],
      "metadata": {
        "id": "uh9ebdkPnXk1"
      }
    },
    {
      "cell_type": "code",
      "source": [
        "import random\n",
        "#generating a list of 5 random numbers between 1 and 100\n",
        "random_numbers = [random.randint(1,100) for _ in range(5)]\n",
        "#sorting the list in ascending order\n",
        "random_numbers.sort()\n",
        "#printing the sorted list\n",
        "print(\"the sorted list is:\", random_numbers)"
      ],
      "metadata": {
        "colab": {
          "base_uri": "https://localhost:8080/"
        },
        "id": "lBXnaYjxnpC9",
        "outputId": "26c91f41-c4eb-44ab-863a-55344ab0e906"
      },
      "execution_count": null,
      "outputs": [
        {
          "output_type": "stream",
          "name": "stdout",
          "text": [
            "the sorted list is: [4, 5, 26, 27, 61]\n"
          ]
        }
      ]
    },
    {
      "cell_type": "markdown",
      "source": [
        "Q28 write acode to create a list with strings and print the element at the third index"
      ],
      "metadata": {
        "id": "vLajNju_n6zk"
      }
    },
    {
      "cell_type": "code",
      "source": [
        "#creating a list with strings\n",
        "string_list = [\"apple\",\"banana\",\"orange\",\"grape\",\"kiwi\"]\n",
        "#printing the element at the third index\n",
        "print(\"the element at the third index is:\", string_list[2])"
      ],
      "metadata": {
        "colab": {
          "base_uri": "https://localhost:8080/"
        },
        "id": "rwRpgH7toEat",
        "outputId": "21f7bde8-e2c7-46a2-b7b4-b7ae19a43a39"
      },
      "execution_count": null,
      "outputs": [
        {
          "output_type": "stream",
          "name": "stdout",
          "text": [
            "the element at the third index is: orange\n"
          ]
        }
      ]
    },
    {
      "cell_type": "markdown",
      "source": [
        "Q29 write acode to combine two dictionaries into one and print the result"
      ],
      "metadata": {
        "id": "8bxZqZISoOMU"
      }
    },
    {
      "cell_type": "code",
      "source": [
        "#creating two dictionaries\n",
        "dict1 = {'a':1,'b':2}\n",
        "dict2 = {'c':3,'d':4}\n",
        "#combining the dictionaries\n",
        "combined_dict = {**dict1, **dict2}\n",
        "#printing the combined dictionary"
      ],
      "metadata": {
        "id": "nizZGsMroXBj"
      },
      "execution_count": null,
      "outputs": []
    },
    {
      "cell_type": "markdown",
      "source": [
        "[Q30 write a code to convert a list of strings into a set"
      ],
      "metadata": {
        "id": "pAfrsidaog4k"
      }
    },
    {
      "cell_type": "code",
      "source": [
        "#creating a list of strings\n",
        "string_list = [\"apple\",\"banana\",\"orange\",\"grape\",\"kiwi\"]\n",
        "#converting the list into a set\n",
        "string_set = set(string_list)\n",
        "#printing the set\n",
        "print(\"the set is:\", string_set)"
      ],
      "metadata": {
        "id": "1IxWNUU9pY_q",
        "colab": {
          "base_uri": "https://localhost:8080/"
        },
        "outputId": "3d3fc1a0-b6dd-47cf-b451-e5d111763ac4"
      },
      "execution_count": 54,
      "outputs": [
        {
          "output_type": "stream",
          "name": "stdout",
          "text": [
            "the set is: {'apple', 'grape', 'banana', 'kiwi', 'orange'}\n"
          ]
        }
      ]
    },
    {
      "cell_type": "markdown",
      "source": [],
      "metadata": {
        "id": "s3X1UAs2A8yN"
      }
    }
  ]
}